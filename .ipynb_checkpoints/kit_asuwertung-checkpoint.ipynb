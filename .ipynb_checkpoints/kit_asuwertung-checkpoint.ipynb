{
 "cells": [
  {
   "cell_type": "markdown",
   "id": "97dd518a",
   "metadata": {},
   "source": [
    "# KIT Datenauswertung"
   ]
  },
  {
   "cell_type": "code",
   "execution_count": 70,
   "id": "ca844f90",
   "metadata": {},
   "outputs": [
    {
     "name": "stdout",
     "output_type": "stream",
     "text": [
      "The rpy2.ipython extension is already loaded. To reload it, use:\n",
      "  %reload_ext rpy2.ipython\n"
     ]
    }
   ],
   "source": [
    "import pandas as pd\n",
    "import numpy as np\n",
    "\n",
    "%load_ext rpy2.ipython"
   ]
  },
  {
   "cell_type": "code",
   "execution_count": 71,
   "id": "bbf9a6b1",
   "metadata": {},
   "outputs": [],
   "source": [
    "path = \"Abschiednahme.csv\"\n",
    "df = pd.read_csv(path, sep =';', encoding=\"cp1252\")\n",
    "   "
   ]
  },
  {
   "cell_type": "code",
   "execution_count": null,
   "id": "d68d086d",
   "metadata": {},
   "outputs": [],
   "source": []
  },
  {
   "cell_type": "code",
   "execution_count": 72,
   "id": "e8e3ad16",
   "metadata": {},
   "outputs": [],
   "source": [
    "def parser(flo):\n",
    "    r_array = flo\n",
    "    if type(flo)==str:\n",
    "        r_array= [int(i) for i in flo.replace(\",\",\"\")]\n",
    "\n",
    "    return r_array"
   ]
  },
  {
   "cell_type": "code",
   "execution_count": 73,
   "id": "de8ddfd3",
   "metadata": {},
   "outputs": [],
   "source": [
    "df[\"nicht mgl\"] = df.apply(lambda x: parser(x[\"nicht mgl\"]),axis=1)\n"
   ]
  },
  {
   "cell_type": "code",
   "execution_count": 74,
   "id": "27b503d8",
   "metadata": {},
   "outputs": [
    {
     "data": {
      "text/plain": [
       "Index(['Nr', 'ID', 'Indikation', 'Geschlecht', 'Alter', 'Bezug', 'nicht mgl',\n",
       "       'mgl, nicht erf,', 'erfolgt', 'profitiert', 'kooperativ', 'freundlich',\n",
       "       'ablehnend', 'aggressiv', 'klammernd', 'fordernd', 'vorsichtig',\n",
       "       'gleichgültig', 'RM'],\n",
       "      dtype='object')"
      ]
     },
     "execution_count": 74,
     "metadata": {},
     "output_type": "execute_result"
    }
   ],
   "source": [
    "df.columns"
   ]
  },
  {
   "cell_type": "code",
   "execution_count": 79,
   "id": "b938aa9b",
   "metadata": {},
   "outputs": [],
   "source": [
    "##def dicts\n",
    "\n",
    "# \"indikation\"\n",
    "indi_dict = {\n",
    "0:\"Suizid\",\n",
    "1:\"häuslicher Tod\",\n",
    "2:\"Unfall\",\n",
    "3:\"später Fund\",\n",
    "4:\"Kindstod\",\n",
    "5:\"Reanimation\",\n",
    "6:\"nicht natürlich/ungeklärt\",\n",
    "7:\"Todesnachricht\",\n",
    "8:\"Straftat\",\n",
    "}\n",
    "\n",
    "# \"Geschlecht\"\n",
    "gender_dict = {\n",
    "0:\"weiblich\",\n",
    "1:\"männlich\"\n",
    "}\n",
    "\n",
    "# \"Bezug\"\n",
    "bezug_dict = {\n",
    "0:\"EF\",\n",
    "1:\"EM\",\n",
    "2:\"Tochter\",\n",
    "3:\"Sohn\",\n",
    "4:\"LG\",\n",
    "5:\"Mutter\",\n",
    "6:\"Vater\",\n",
    "7:\"Verwandte\",\n",
    "8:\"Enkel\",\n",
    "9:\"Freund\",\n",
    "10:\"Geschister\",\n",
    "11:\"sonst,Ex,Schwieger\",\n",
    "}\n",
    "\n",
    "# \"nicht mgl\"\n",
    "ntichtmgl_dict  = {\n",
    "0:\"anderer Ort\",\n",
    "1:\"entstellt\",\n",
    "2:\"Polizei abgelehnt\",\n",
    "3:\"sonstiges\",\n",
    "}\n",
    "# \"mgl. Nicht erfolgt\"\n",
    "ntichterfolgt_dict  = {\n",
    "0:\"abgelehnt\",\n",
    "1:\"sonstiges\",\n",
    "}\n",
    "\n",
    "#\"erfolgt\"\n",
    "erfolgt_dict  = {\n",
    "0:\"berührt\",\n",
    "1:\"Ekel\",\n",
    "2:\"weinte\",\n",
    "3:\"allein\",\n",
    "4:\"sonstiges\",\n",
    "5:\"distanziert\",\n",
    "}\n",
    "\n",
    "#\"profitiert\"\n",
    "profitiert_dict  = {\n",
    "0:\"ja\",\n",
    "1:\"nein\",\n",
    "2:\"weiß nicht\",\n",
    "}\n",
    "\n",
    "#\"RM\"\n",
    "relative_dict = {\n",
    "0:\"gut\",\n",
    "1:\"zufrieden\",\n",
    "2:\"gestresst\",\n",
    "3:\"erleichtert\",\n",
    "4:\"ausgelaugt\",\n",
    "5:\"unzufrieden\",###??\n",
    "6:\"unzufrieden\",\n",
    "}\n",
    "\n",
    "## gesamt dict for loop\n",
    "\n"
   ]
  },
  {
   "cell_type": "code",
   "execution_count": 77,
   "id": "3efd5f2c",
   "metadata": {},
   "outputs": [
    {
     "data": {
      "image/png": "[encoded data removed]",
      "text/plain": [
       "<Figure size 432x288 with 1 Axes>"
      ]
     },
     "metadata": {},
     "output_type": "display_data"
    }
   ],
   "source": [
    "import matplotlib.pyplot as plt\n",
    "\n",
    "def count_indi(c_name, d):\n",
    "    sizes= []\n",
    "    for i in d.keys():\n",
    "        c = sum(df[c_name]==i)\n",
    "        sizes.append(c)\n",
    "    return(sizes)\n",
    "\n",
    "def plot_results(c_name, legend_dict):\n",
    "    \n",
    "    labels = legend_dict.values()\n",
    "    sizes=count_indi(c_name, legend_dict)\n",
    "    fig1, ax1 = plt.subplots()\n",
    "    \n",
    "    ax1.pie(sizes, labels=labels, autopct='%1.1f%%',\n",
    "            shadow=True, startangle=90)\n",
    "    ax1.axis('equal')  # Equal aspect ratio ensures that pie is drawn as a circle.\n",
    "\n",
    "    plt.show()\n",
    "    \n",
    "plot_results(\"Indikation\", indi_dict)"
   ]
  },
  {
   "cell_type": "code",
   "execution_count": 65,
   "id": "12d35708",
   "metadata": {},
   "outputs": [
    {
     "data": {
      "text/plain": [
       "[43, 68, 9, 1, 6, 15, 16, 16, 2]"
      ]
     },
     "execution_count": 65,
     "metadata": {},
     "output_type": "execute_result"
    }
   ],
   "source": [
    "sizes"
   ]
  },
  {
   "cell_type": "code",
   "execution_count": null,
   "id": "d91efa38",
   "metadata": {},
   "outputs": [],
   "source": []
  },
  {
   "cell_type": "code",
   "execution_count": null,
   "id": "6a64d9ad",
   "metadata": {},
   "outputs": [],
   "source": []
  }
 ],
 "metadata": {
  "kernelspec": {
   "display_name": "Python 3",
   "language": "python",
   "name": "python3"
  },
  "language_info": {
   "codemirror_mode": {
    "name": "ipython",
    "version": 3
   },
   "file_extension": ".py",
   "mimetype": "text/x-python",
   "name": "python",
   "nbconvert_exporter": "python",
   "pygments_lexer": "ipython3",
   "version": "3.6.13"
  },
  "toc": {
   "base_numbering": 1,
   "nav_menu": {},
   "number_sections": true,
   "sideBar": true,
   "skip_h1_title": false,
   "title_cell": "Table of Contents",
   "title_sidebar": "Contents",
   "toc_cell": false,
   "toc_position": {},
   "toc_section_display": true,
   "toc_window_display": false
  },
  "varInspector": {
   "cols": {
    "lenName": 16,
    "lenType": 16,
    "lenVar": 40
   },
   "kernels_config": {
    "python": {
     "delete_cmd_postfix": "",
     "delete_cmd_prefix": "del ",
     "library": "var_list.py",
     "varRefreshCmd": "print(var_dic_list())"
    },
    "r": {
     "delete_cmd_postfix": ") ",
     "delete_cmd_prefix": "rm(",
     "library": "var_list.r",
     "varRefreshCmd": "cat(var_dic_list()) "
    }
   },
   "types_to_exclude": [
    "module",
    "function",
    "builtin_function_or_method",
    "instance",
    "_Feature"
   ],
   "window_display": false
  }
 },
 "nbformat": 4,
 "nbformat_minor": 5
}
