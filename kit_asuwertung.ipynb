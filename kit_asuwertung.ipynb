{
 "cells": [
  {
   "cell_type": "markdown",
   "id": "97dd518a",
   "metadata": {},
   "source": [
    "# KIT Datenauswertung"
   ]
  },
  {
   "cell_type": "code",
   "execution_count": 1,
   "id": "ca844f90",
   "metadata": {},
   "outputs": [
    {
     "name": "stderr",
     "output_type": "stream",
     "text": [
      "C:\\Users\\arn\\miniconda3\\envs\\kitdata\\lib\\site-packages\\rpy2\\robjects\\pandas2ri.py:17: FutureWarning: pandas.core.index is deprecated and will be removed in a future version.  The public classes are available in the top-level namespace.\n",
      "  from pandas.core.index import Index as PandasIndex\n"
     ]
    }
   ],
   "source": [
    "import pandas as pd\n",
    "import numpy as np\n",
    "\n",
    "%load_ext rpy2.ipython"
   ]
  },
  {
   "cell_type": "code",
   "execution_count": 2,
   "id": "bbf9a6b1",
   "metadata": {},
   "outputs": [],
   "source": [
    "path = \"Abschiednahme.csv\"\n",
    "df = pd.read_csv(path, sep =';', encoding=\"cp1252\")\n",
    "   "
   ]
  },
  {
   "cell_type": "code",
   "execution_count": null,
   "id": "d68d086d",
   "metadata": {},
   "outputs": [],
   "source": []
  },
  {
   "cell_type": "code",
   "execution_count": 3,
   "id": "e8e3ad16",
   "metadata": {},
   "outputs": [],
   "source": [
    "def parser(flo):\n",
    "    r_array = flo\n",
    "    if type(flo)==str:\n",
    "        r_array= [int(i) for i in flo.replace(\",\",\"\")]\n",
    "\n",
    "    return r_array"
   ]
  },
  {
   "cell_type": "code",
   "execution_count": 66,
   "id": "27b503d8",
   "metadata": {},
   "outputs": [],
   "source": [
    "for i in df.columns:\n",
    "    df[i]       = df.apply(lambda x: parser(x[i]),axis=1)"
   ]
  },
  {
   "cell_type": "code",
   "execution_count": 67,
   "id": "b938aa9b",
   "metadata": {},
   "outputs": [],
   "source": [
    "##def dicts\n",
    "\n",
    "listoption = []\n",
    "\n",
    "listoption.append(\"Indikation\")\n",
    "indi_dict = {\n",
    "0:\"Suizid\",\n",
    "1:\"häuslicher Tod\",\n",
    "2:\"Unfall\",\n",
    "3:\"später Fund\",\n",
    "4:\"Kindstod\",\n",
    "5:\"Reanimation\",\n",
    "6:\"nicht natürlich/ungeklärt\",\n",
    "7:\"Todesnachricht\",\n",
    "8:\"Straftat\",\n",
    "}\n",
    "\n",
    "listoption.append(\"Geschlecht\")\n",
    "gender_dict = {\n",
    "0:\"weiblich\",\n",
    "1:\"männlich\"\n",
    "}\n",
    "\n",
    "listoption.append(\"Bezug\")\n",
    "bezug_dict = {\n",
    "0:\"EF\",\n",
    "1:\"EM\",\n",
    "2:\"Tochter\",\n",
    "3:\"Sohn\",\n",
    "4:\"LG\",\n",
    "5:\"Mutter\",\n",
    "6:\"Vater\",\n",
    "7:\"Verwandte\",\n",
    "8:\"Enkel\",\n",
    "9:\"Freund\",\n",
    "10:\"Geschister\",\n",
    "11:\"sonst,Ex,Schwieger\",\n",
    "}\n",
    "\n",
    "listoption.append(\"nicht mgl\")\n",
    "ntichtmgl_dict  = {\n",
    "0:\"anderer Ort\",\n",
    "1:\"entstellt\",\n",
    "2:\"Polizei abgelehnt\",\n",
    "3:\"sonstiges\",\n",
    "}\n",
    "\n",
    "listoption.append(\"mgl, nicht erfolgt\")\n",
    "ntichterfolgt_dict  = {\n",
    "0:\"abgelehnt\",\n",
    "1:\"sonstiges\",\n",
    "}\n",
    "\n",
    "listoption.append(\"erfolgt\")\n",
    "erfolgt_dict  = {\n",
    "0:\"berührt\",\n",
    "1:\"Ekel\",\n",
    "2:\"weinte\",\n",
    "3:\"allein\",\n",
    "4:\"sonstiges\",\n",
    "5:\"distanziert\",\n",
    "}\n",
    "\n",
    "listoption.append(\"profitiert\")\n",
    "profitiert_dict  = {\n",
    "0:\"ja\",\n",
    "1:\"nein\",\n",
    "2:\"weiß nicht\",\n",
    "}\n",
    "\n",
    "listoption.append(\"RM\")\n",
    "relative_dict = {\n",
    "0:\"gut\",\n",
    "1:\"zufrieden\",\n",
    "2:\"gestresst\",\n",
    "3:\"erleichtert\",\n",
    "4:\"ausgelaugt\",\n",
    "5:\"unzufrieden\",###??\n",
    "6:\"unzufrieden\",\n",
    "}\n",
    "\n",
    "## gesamt dict for loop\n",
    "\n",
    "dictoption = [indi_dict,\n",
    "              gender_dict,\n",
    "              bezug_dict,\n",
    "              ntichtmgl_dict,\n",
    "              ntichterfolgt_dict,\n",
    "              erfolgt_dict,\n",
    "              profitiert_dict,\n",
    "              relative_dict]\n",
    "\n",
    "tupleoption  = tuple(zip(listoption,dictoption))"
   ]
  },
  {
   "cell_type": "code",
   "execution_count": 119,
   "id": "3efd5f2c",
   "metadata": {},
   "outputs": [],
   "source": [
    "import matplotlib.pyplot as plt\n",
    "\n",
    "def count_indi(c_name, d):\n",
    "    sizes= []\n",
    "    for i in d.keys():\n",
    "        if df[c_name].dtype == 'O':\n",
    "            if type(df[c_name][0]) == str:   ## not really good idndication, change later\n",
    "                c = sum(df[c_name].dropna().str.find(str(i))>=0)\n",
    "                sizes.append(c)\n",
    "            if type(df[c_name][0]) == list:\n",
    "                c=0\n",
    "                for l in df[c_name].dropna():\n",
    "                    c+=l.count(i)\n",
    "                sizes.append(c)\n",
    "\n",
    "        if df[c_name].dtype == 'float64':\n",
    "            c = sum(df[c_name]==i)\n",
    "            sizes.append(c)\n",
    "            \n",
    "        if df[c_name].dtype == 'int64':\n",
    "            c = sum(df[c_name]==i)\n",
    "            sizes.append(c)\n",
    "    return(sizes)\n",
    "\n",
    "def plot_results(c_name, legend_dict):\n",
    "    \n",
    "    labels = legend_dict.values()\n",
    "    sizes=count_indi(c_name, legend_dict)\n",
    "    fig1, ax1 = plt.subplots()\n",
    "    \n",
    "    ax1.pie(sizes, labels=labels, autopct='%1.1f%%',\n",
    "            shadow=True, startangle=90)\n",
    "    ax1.axis('equal')  # Equal aspect ratio ensures that pie is drawn as a circle.\n",
    "\n",
    "    plt.show()   \n"
   ]
  },
  {
   "cell_type": "code",
   "execution_count": 120,
   "id": "12d35708",
   "metadata": {},
   "outputs": [
    {
     "data": {
      "text/plain": [
       "[60, 105, 3, 29, 37, 2, 2]"
      ]
     },
     "execution_count": 120,
     "metadata": {},
     "output_type": "execute_result"
    }
   ],
   "source": [
    "#plot_results(\"RM\", relative_dict)\n",
    "\n",
    "count_indi(\"RM\", relative_dict)"
   ]
  },
  {
   "cell_type": "code",
   "execution_count": 121,
   "id": "6a64d9ad",
   "metadata": {},
   "outputs": [],
   "source": [
    "##  define interactive functions\n",
    "import ipywidgets as widgets\n",
    "from ipywidgets import interact\n",
    "\n",
    "\n",
    "w1 = widgets.Dropdown(\n",
    "    options=tupleoption,\n",
    "    #value=dictoption,\n",
    "    description='Number:',\n",
    "    disabled=False,\n",
    ")\n",
    "\n",
    "def f(x):\n",
    "    plot_results(w1.label, w1.value)\n",
    "    \n",
    "\n"
   ]
  },
  {
   "cell_type": "code",
   "execution_count": 122,
   "id": "f5ef78b0",
   "metadata": {},
   "outputs": [
    {
     "data": {
      "application/vnd.jupyter.widget-view+json": {
       "model_id": "0c9689374702477b8b9bbcd29b685e1e",
       "version_major": 2,
       "version_minor": 0
      },
      "text/plain": [
       "interactive(children=(Dropdown(description='Number:', options=(('Indikation', {0: 'Suizid', 1: 'häuslicher Tod…"
      ]
     },
     "metadata": {},
     "output_type": "display_data"
    }
   ],
   "source": [
    "interact(f, x=w1);"
   ]
  },
  {
   "cell_type": "code",
   "execution_count": null,
   "id": "d5e2ffc8",
   "metadata": {},
   "outputs": [],
   "source": []
  }
 ],
 "metadata": {
  "kernelspec": {
   "display_name": "Python 3",
   "language": "python",
   "name": "python3"
  },
  "language_info": {
   "codemirror_mode": {
    "name": "ipython",
    "version": 3
   },
   "file_extension": ".py",
   "mimetype": "text/x-python",
   "name": "python",
   "nbconvert_exporter": "python",
   "pygments_lexer": "ipython3",
   "version": "3.6.13"
  },
  "toc": {
   "base_numbering": 1,
   "nav_menu": {},
   "number_sections": true,
   "sideBar": true,
   "skip_h1_title": false,
   "title_cell": "Table of Contents",
   "title_sidebar": "Contents",
   "toc_cell": false,
   "toc_position": {},
   "toc_section_display": true,
   "toc_window_display": false
  },
  "varInspector": {
   "cols": {
    "lenName": 16,
    "lenType": 16,
    "lenVar": 40
   },
   "kernels_config": {
    "python": {
     "delete_cmd_postfix": "",
     "delete_cmd_prefix": "del ",
     "library": "var_list.py",
     "varRefreshCmd": "print(var_dic_list())"
    },
    "r": {
     "delete_cmd_postfix": ") ",
     "delete_cmd_prefix": "rm(",
     "library": "var_list.r",
     "varRefreshCmd": "cat(var_dic_list()) "
    }
   },
   "types_to_exclude": [
    "module",
    "function",
    "builtin_function_or_method",
    "instance",
    "_Feature"
   ],
   "window_display": false
  }
 },
 "nbformat": 4,
 "nbformat_minor": 5
}
